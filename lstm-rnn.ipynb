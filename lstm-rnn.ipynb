{
 "cells": [
  {
   "cell_type": "code",
   "execution_count": 2,
   "id": "37c3720d",
   "metadata": {},
   "outputs": [],
   "source": [
    "import numpy as np"
   ]
  },
  {
   "cell_type": "code",
   "execution_count": 3,
   "id": "f93c9655",
   "metadata": {},
   "outputs": [],
   "source": [
    "import pandas as pd"
   ]
  },
  {
   "cell_type": "code",
   "execution_count": 4,
   "id": "34f0726c",
   "metadata": {},
   "outputs": [],
   "source": [
    "import matplotlib.pyplot as plt"
   ]
  },
  {
   "cell_type": "code",
   "execution_count": 5,
   "id": "c509924f",
   "metadata": {},
   "outputs": [],
   "source": [
    "from sklearn.preprocessing import MinMaxScaler"
   ]
  },
  {
   "cell_type": "code",
   "execution_count": 6,
   "id": "643e675c",
   "metadata": {},
   "outputs": [
    {
     "name": "stderr",
     "output_type": "stream",
     "text": [
      "2021-12-13 11:55:18.348967: W tensorflow/stream_executor/platform/default/dso_loader.cc:64] Could not load dynamic library 'libcudart.so.11.0'; dlerror: libcudart.so.11.0: cannot open shared object file: No such file or directory\n",
      "2021-12-13 11:55:18.350135: I tensorflow/stream_executor/cuda/cudart_stub.cc:29] Ignore above cudart dlerror if you do not have a GPU set up on your machine.\n"
     ]
    }
   ],
   "source": [
    "from tensorflow.keras.models import Sequential"
   ]
  },
  {
   "cell_type": "code",
   "execution_count": 7,
   "id": "df112a56",
   "metadata": {},
   "outputs": [],
   "source": [
    "from tensorflow.keras.layers import LSTM,Dropout,Dense"
   ]
  },
  {
   "cell_type": "markdown",
   "id": "f7b41bb5",
   "metadata": {},
   "source": [
    "## Reading Training Data"
   ]
  },
  {
   "cell_type": "code",
   "execution_count": 8,
   "id": "4dbb54c5",
   "metadata": {},
   "outputs": [],
   "source": [
    "dataset_train = pd.read_csv('Google_Stock_Price_Train.csv')"
   ]
  },
  {
   "cell_type": "code",
   "execution_count": 9,
   "id": "be853500",
   "metadata": {},
   "outputs": [],
   "source": [
    "training_set = dataset_train.iloc[:, 1:2].values"
   ]
  },
  {
   "cell_type": "code",
   "execution_count": 10,
   "id": "8f382196",
   "metadata": {},
   "outputs": [],
   "source": [
    "sc = MinMaxScaler(feature_range = (0, 1))"
   ]
  },
  {
   "cell_type": "code",
   "execution_count": 11,
   "id": "0e75d6b4",
   "metadata": {},
   "outputs": [],
   "source": [
    "training_set_scaled = sc.fit_transform(training_set)"
   ]
  },
  {
   "cell_type": "code",
   "execution_count": 12,
   "id": "a19e3fd9",
   "metadata": {},
   "outputs": [],
   "source": [
    "X_train = []\n",
    "y_train = []"
   ]
  },
  {
   "cell_type": "code",
   "execution_count": 13,
   "id": "1b55cdf7",
   "metadata": {},
   "outputs": [],
   "source": [
    "for i in range(60, 1258):\n",
    "    X_train.append(training_set_scaled[i-60:i, 0])\n",
    "    y_train.append(training_set_scaled[i, 0])"
   ]
  },
  {
   "cell_type": "code",
   "execution_count": 14,
   "id": "d5dbb828",
   "metadata": {},
   "outputs": [],
   "source": [
    "X_train, y_train = np.array(X_train), np.array(y_train)\n",
    "X_train = np.reshape(X_train, (X_train.shape[0], X_train.shape[1], 1))"
   ]
  },
  {
   "cell_type": "markdown",
   "id": "81fc1547",
   "metadata": {},
   "source": [
    "## Creating the Stock Price Prediction Model."
   ]
  },
  {
   "cell_type": "code",
   "execution_count": 15,
   "id": "ec0ff047",
   "metadata": {},
   "outputs": [
    {
     "name": "stderr",
     "output_type": "stream",
     "text": [
      "2021-12-13 11:55:31.838752: W tensorflow/stream_executor/platform/default/dso_loader.cc:64] Could not load dynamic library 'libcuda.so.1'; dlerror: libcuda.so.1: cannot open shared object file: No such file or directory\n",
      "2021-12-13 11:55:31.842557: W tensorflow/stream_executor/cuda/cuda_driver.cc:269] failed call to cuInit: UNKNOWN ERROR (303)\n",
      "2021-12-13 11:55:31.843472: I tensorflow/stream_executor/cuda/cuda_diagnostics.cc:156] kernel driver does not appear to be running on this host (JYashu): /proc/driver/nvidia/version does not exist\n",
      "2021-12-13 11:55:31.856076: I tensorflow/core/platform/cpu_feature_guard.cc:142] This TensorFlow binary is optimized with oneAPI Deep Neural Network Library (oneDNN) to use the following CPU instructions in performance-critical operations:  AVX2 FMA\n",
      "To enable them in other operations, rebuild TensorFlow with the appropriate compiler flags.\n"
     ]
    }
   ],
   "source": [
    "regressor = Sequential()"
   ]
  },
  {
   "cell_type": "markdown",
   "id": "71dbfe0e",
   "metadata": {},
   "source": [
    "#### Adding 1st LSTM Layer"
   ]
  },
  {
   "cell_type": "code",
   "execution_count": 16,
   "id": "8b59953a",
   "metadata": {},
   "outputs": [],
   "source": [
    "regressor.add(LSTM(units = 50, return_sequences = True, input_shape = (X_train.shape[1], 1)))\n",
    "regressor.add(Dropout(0.2))"
   ]
  },
  {
   "cell_type": "markdown",
   "id": "bbabe851",
   "metadata": {},
   "source": [
    "#### Adding 2nd LSTM Layer"
   ]
  },
  {
   "cell_type": "code",
   "execution_count": 17,
   "id": "3d147f5b",
   "metadata": {},
   "outputs": [],
   "source": [
    "regressor.add(LSTM(units = 50, return_sequences = True))\n",
    "regressor.add(Dropout(0.2))"
   ]
  },
  {
   "cell_type": "markdown",
   "id": "06fa36d1",
   "metadata": {},
   "source": [
    "#### Adding 3rd LSTM Layer"
   ]
  },
  {
   "cell_type": "code",
   "execution_count": 18,
   "id": "77f42d45",
   "metadata": {},
   "outputs": [],
   "source": [
    "regressor.add(LSTM(units = 50, return_sequences = True))\n",
    "regressor.add(Dropout(0.2))"
   ]
  },
  {
   "cell_type": "markdown",
   "id": "da4b07fc",
   "metadata": {},
   "source": [
    "#### Adding 4th LSTM Layer"
   ]
  },
  {
   "cell_type": "code",
   "execution_count": 19,
   "id": "dde95baf",
   "metadata": {},
   "outputs": [],
   "source": [
    "regressor.add(LSTM(units = 50))\n",
    "regressor.add(Dropout(0.2))"
   ]
  },
  {
   "cell_type": "markdown",
   "id": "bfd4083f",
   "metadata": {},
   "source": [
    "#### Adding Output Layer"
   ]
  },
  {
   "cell_type": "code",
   "execution_count": 20,
   "id": "85f37ed6",
   "metadata": {},
   "outputs": [],
   "source": [
    "regressor.add(Dense(units = 1))"
   ]
  },
  {
   "cell_type": "code",
   "execution_count": 21,
   "id": "87b9ffd2",
   "metadata": {},
   "outputs": [],
   "source": [
    "regressor.compile(optimizer = 'adam', loss = 'mean_squared_error')"
   ]
  },
  {
   "cell_type": "code",
   "execution_count": 22,
   "id": "291a3ca3",
   "metadata": {},
   "outputs": [
    {
     "name": "stdout",
     "output_type": "stream",
     "text": [
      "Model: \"sequential\"\n",
      "_________________________________________________________________\n",
      "Layer (type)                 Output Shape              Param #   \n",
      "=================================================================\n",
      "lstm (LSTM)                  (None, 60, 50)            10400     \n",
      "_________________________________________________________________\n",
      "dropout (Dropout)            (None, 60, 50)            0         \n",
      "_________________________________________________________________\n",
      "lstm_1 (LSTM)                (None, 60, 50)            20200     \n",
      "_________________________________________________________________\n",
      "dropout_1 (Dropout)          (None, 60, 50)            0         \n",
      "_________________________________________________________________\n",
      "lstm_2 (LSTM)                (None, 60, 50)            20200     \n",
      "_________________________________________________________________\n",
      "dropout_2 (Dropout)          (None, 60, 50)            0         \n",
      "_________________________________________________________________\n",
      "lstm_3 (LSTM)                (None, 50)                20200     \n",
      "_________________________________________________________________\n",
      "dropout_3 (Dropout)          (None, 50)                0         \n",
      "_________________________________________________________________\n",
      "dense (Dense)                (None, 1)                 51        \n",
      "=================================================================\n",
      "Total params: 71,051\n",
      "Trainable params: 71,051\n",
      "Non-trainable params: 0\n",
      "_________________________________________________________________\n",
      "None\n"
     ]
    }
   ],
   "source": [
    "print(regressor.summary())"
   ]
  },
  {
   "cell_type": "markdown",
   "id": "083d2f72",
   "metadata": {},
   "source": [
    "## Training the Stock Price Prediction Model."
   ]
  },
  {
   "cell_type": "code",
   "execution_count": 23,
   "id": "b3d928eb",
   "metadata": {},
   "outputs": [
    {
     "name": "stderr",
     "output_type": "stream",
     "text": [
      "2021-12-13 11:55:43.279662: I tensorflow/compiler/mlir/mlir_graph_optimization_pass.cc:185] None of the MLIR Optimization Passes are enabled (registered 2)\n"
     ]
    },
    {
     "name": "stdout",
     "output_type": "stream",
     "text": [
      "Epoch 1/100\n",
      "38/38 [==============================] - 19s 209ms/step - loss: 0.0345\n",
      "Epoch 2/100\n",
      "38/38 [==============================] - 10s 261ms/step - loss: 0.0060\n",
      "Epoch 3/100\n",
      "38/38 [==============================] - 12s 306ms/step - loss: 0.0052\n",
      "Epoch 4/100\n",
      "38/38 [==============================] - 13s 350ms/step - loss: 0.0050\n",
      "Epoch 5/100\n",
      "38/38 [==============================] - 8s 206ms/step - loss: 0.0058\n",
      "Epoch 6/100\n",
      "38/38 [==============================] - 8s 222ms/step - loss: 0.0046\n",
      "Epoch 7/100\n",
      "38/38 [==============================] - 12s 325ms/step - loss: 0.0045\n",
      "Epoch 8/100\n",
      "38/38 [==============================] - 13s 343ms/step - loss: 0.0043\n",
      "Epoch 9/100\n",
      "38/38 [==============================] - 12s 316ms/step - loss: 0.0043\n",
      "Epoch 10/100\n",
      "38/38 [==============================] - 10s 254ms/step - loss: 0.0044\n",
      "Epoch 11/100\n",
      "38/38 [==============================] - 11s 302ms/step - loss: 0.0044\n",
      "Epoch 12/100\n",
      "38/38 [==============================] - 12s 315ms/step - loss: 0.0039\n",
      "Epoch 13/100\n",
      "38/38 [==============================] - 9s 245ms/step - loss: 0.0044\n",
      "Epoch 14/100\n",
      "38/38 [==============================] - 7s 187ms/step - loss: 0.0047\n",
      "Epoch 15/100\n",
      "38/38 [==============================] - 7s 187ms/step - loss: 0.0042\n",
      "Epoch 16/100\n",
      "38/38 [==============================] - 7s 191ms/step - loss: 0.0035\n",
      "Epoch 17/100\n",
      "38/38 [==============================] - 9s 237ms/step - loss: 0.0040\n",
      "Epoch 18/100\n",
      "38/38 [==============================] - 9s 235ms/step - loss: 0.0039\n",
      "Epoch 19/100\n",
      "38/38 [==============================] - 9s 235ms/step - loss: 0.0032\n",
      "Epoch 20/100\n",
      "38/38 [==============================] - 8s 204ms/step - loss: 0.0035\n",
      "Epoch 21/100\n",
      "38/38 [==============================] - 10s 256ms/step - loss: 0.0037\n",
      "Epoch 22/100\n",
      "38/38 [==============================] - 12s 309ms/step - loss: 0.0036\n",
      "Epoch 23/100\n",
      "38/38 [==============================] - 14s 374ms/step - loss: 0.0031\n",
      "Epoch 24/100\n",
      "38/38 [==============================] - 8s 224ms/step - loss: 0.0032\n",
      "Epoch 25/100\n",
      "38/38 [==============================] - 11s 298ms/step - loss: 0.0038\n",
      "Epoch 26/100\n",
      "38/38 [==============================] - 9s 245ms/step - loss: 0.0031\n",
      "Epoch 27/100\n",
      "38/38 [==============================] - 13s 353ms/step - loss: 0.0030\n",
      "Epoch 28/100\n",
      "38/38 [==============================] - 13s 334ms/step - loss: 0.0031\n",
      "Epoch 29/100\n",
      "38/38 [==============================] - 9s 227ms/step - loss: 0.0026\n",
      "Epoch 30/100\n",
      "38/38 [==============================] - 8s 201ms/step - loss: 0.0027\n",
      "Epoch 31/100\n",
      "38/38 [==============================] - 10s 268ms/step - loss: 0.0036\n",
      "Epoch 32/100\n",
      "38/38 [==============================] - 8s 216ms/step - loss: 0.0029\n",
      "Epoch 33/100\n",
      "38/38 [==============================] - 7s 194ms/step - loss: 0.0027\n",
      "Epoch 34/100\n",
      "38/38 [==============================] - 7s 195ms/step - loss: 0.0027\n",
      "Epoch 35/100\n",
      "38/38 [==============================] - 8s 201ms/step - loss: 0.0029\n",
      "Epoch 36/100\n",
      "38/38 [==============================] - 8s 202ms/step - loss: 0.0029\n",
      "Epoch 37/100\n",
      "38/38 [==============================] - 8s 204ms/step - loss: 0.0031\n",
      "Epoch 38/100\n",
      "38/38 [==============================] - 8s 207ms/step - loss: 0.0028\n",
      "Epoch 39/100\n",
      "38/38 [==============================] - 8s 198ms/step - loss: 0.0024\n",
      "Epoch 40/100\n",
      "38/38 [==============================] - 9s 234ms/step - loss: 0.0027\n",
      "Epoch 41/100\n",
      "38/38 [==============================] - 9s 225ms/step - loss: 0.0030\n",
      "Epoch 42/100\n",
      "38/38 [==============================] - 8s 210ms/step - loss: 0.0026\n",
      "Epoch 43/100\n",
      "38/38 [==============================] - 8s 204ms/step - loss: 0.0025\n",
      "Epoch 44/100\n",
      "38/38 [==============================] - 8s 205ms/step - loss: 0.0025\n",
      "Epoch 45/100\n",
      "38/38 [==============================] - 8s 198ms/step - loss: 0.0025\n",
      "Epoch 46/100\n",
      "38/38 [==============================] - 8s 209ms/step - loss: 0.0025\n",
      "Epoch 47/100\n",
      "38/38 [==============================] - 8s 200ms/step - loss: 0.0024\n",
      "Epoch 48/100\n",
      "38/38 [==============================] - 8s 209ms/step - loss: 0.0025\n",
      "Epoch 49/100\n",
      "38/38 [==============================] - 9s 235ms/step - loss: 0.0023\n",
      "Epoch 50/100\n",
      "38/38 [==============================] - 8s 219ms/step - loss: 0.0025\n",
      "Epoch 51/100\n",
      "38/38 [==============================] - 8s 209ms/step - loss: 0.0024\n",
      "Epoch 52/100\n",
      "38/38 [==============================] - 8s 208ms/step - loss: 0.0023\n",
      "Epoch 53/100\n",
      "38/38 [==============================] - 8s 201ms/step - loss: 0.0023\n",
      "Epoch 54/100\n",
      "38/38 [==============================] - 8s 200ms/step - loss: 0.0025\n",
      "Epoch 55/100\n",
      "38/38 [==============================] - 8s 205ms/step - loss: 0.0024\n",
      "Epoch 56/100\n",
      "38/38 [==============================] - 10s 264ms/step - loss: 0.0021\n",
      "Epoch 57/100\n",
      "38/38 [==============================] - 9s 235ms/step - loss: 0.0023\n",
      "Epoch 58/100\n",
      "38/38 [==============================] - 8s 217ms/step - loss: 0.0020\n",
      "Epoch 59/100\n",
      "38/38 [==============================] - 8s 206ms/step - loss: 0.0022\n",
      "Epoch 60/100\n",
      "38/38 [==============================] - 8s 213ms/step - loss: 0.0026\n",
      "Epoch 61/100\n",
      "38/38 [==============================] - 8s 223ms/step - loss: 0.0017\n",
      "Epoch 62/100\n",
      "38/38 [==============================] - 8s 212ms/step - loss: 0.0019\n",
      "Epoch 63/100\n",
      "38/38 [==============================] - 9s 231ms/step - loss: 0.0019\n",
      "Epoch 64/100\n",
      "38/38 [==============================] - 9s 237ms/step - loss: 0.0021\n",
      "Epoch 65/100\n",
      "38/38 [==============================] - 12s 309ms/step - loss: 0.0020\n",
      "Epoch 66/100\n",
      "38/38 [==============================] - 10s 256ms/step - loss: 0.0017\n",
      "Epoch 67/100\n",
      "38/38 [==============================] - 10s 266ms/step - loss: 0.0020\n",
      "Epoch 68/100\n",
      "38/38 [==============================] - 10s 273ms/step - loss: 0.0017\n",
      "Epoch 69/100\n",
      "38/38 [==============================] - 8s 222ms/step - loss: 0.0020\n",
      "Epoch 70/100\n",
      "38/38 [==============================] - 9s 228ms/step - loss: 0.0017\n",
      "Epoch 71/100\n",
      "38/38 [==============================] - 9s 229ms/step - loss: 0.0019\n",
      "Epoch 72/100\n",
      "38/38 [==============================] - 11s 279ms/step - loss: 0.0017\n",
      "Epoch 73/100\n",
      "38/38 [==============================] - 9s 223ms/step - loss: 0.0019\n",
      "Epoch 74/100\n",
      "38/38 [==============================] - 9s 233ms/step - loss: 0.0017\n",
      "Epoch 75/100\n",
      "38/38 [==============================] - 9s 225ms/step - loss: 0.0017\n",
      "Epoch 76/100\n",
      "38/38 [==============================] - 9s 223ms/step - loss: 0.0016\n",
      "Epoch 77/100\n",
      "38/38 [==============================] - 9s 231ms/step - loss: 0.0017\n",
      "Epoch 78/100\n",
      "38/38 [==============================] - 9s 230ms/step - loss: 0.0017\n",
      "Epoch 79/100\n",
      "38/38 [==============================] - 8s 220ms/step - loss: 0.0017\n",
      "Epoch 80/100\n",
      "38/38 [==============================] - 9s 228ms/step - loss: 0.0016\n",
      "Epoch 81/100\n",
      "38/38 [==============================] - 10s 258ms/step - loss: 0.0014\n",
      "Epoch 82/100\n",
      "38/38 [==============================] - 8s 204ms/step - loss: 0.0015\n",
      "Epoch 83/100\n",
      "38/38 [==============================] - 10s 275ms/step - loss: 0.0014\n",
      "Epoch 84/100\n",
      "38/38 [==============================] - 11s 279ms/step - loss: 0.0017\n",
      "Epoch 85/100\n",
      "38/38 [==============================] - 8s 203ms/step - loss: 0.0016\n",
      "Epoch 86/100\n",
      "38/38 [==============================] - 10s 274ms/step - loss: 0.0015\n",
      "Epoch 87/100\n",
      "38/38 [==============================] - 10s 272ms/step - loss: 0.0015\n",
      "Epoch 88/100\n",
      "38/38 [==============================] - 9s 235ms/step - loss: 0.0015\n",
      "Epoch 89/100\n",
      "38/38 [==============================] - 8s 212ms/step - loss: 0.0015\n",
      "Epoch 90/100\n",
      "38/38 [==============================] - 8s 212ms/step - loss: 0.0015\n",
      "Epoch 91/100\n",
      "38/38 [==============================] - 7s 190ms/step - loss: 0.0015\n",
      "Epoch 92/100\n",
      "38/38 [==============================] - 10s 261ms/step - loss: 0.0014\n",
      "Epoch 93/100\n",
      "38/38 [==============================] - 11s 275ms/step - loss: 0.0014\n",
      "Epoch 94/100\n",
      "38/38 [==============================] - 7s 192ms/step - loss: 0.0013\n",
      "Epoch 95/100\n",
      "38/38 [==============================] - 8s 210ms/step - loss: 0.0014\n",
      "Epoch 96/100\n",
      "38/38 [==============================] - 8s 199ms/step - loss: 0.0015\n",
      "Epoch 97/100\n",
      "38/38 [==============================] - 7s 193ms/step - loss: 0.0014\n",
      "Epoch 98/100\n",
      "38/38 [==============================] - 7s 191ms/step - loss: 0.0014\n",
      "Epoch 99/100\n"
     ]
    },
    {
     "name": "stdout",
     "output_type": "stream",
     "text": [
      "38/38 [==============================] - 8s 204ms/step - loss: 0.0015\n",
      "Epoch 100/100\n",
      "38/38 [==============================] - 9s 225ms/step - loss: 0.0014\n"
     ]
    },
    {
     "data": {
      "text/plain": [
       "<keras.callbacks.History at 0x7f163006aaf0>"
      ]
     },
     "execution_count": 23,
     "metadata": {},
     "output_type": "execute_result"
    }
   ],
   "source": [
    "regressor.fit(X_train, y_train, epochs = 100, batch_size = 32)"
   ]
  },
  {
   "cell_type": "markdown",
   "id": "78efeea6",
   "metadata": {},
   "source": [
    "## Reading Test Data"
   ]
  },
  {
   "cell_type": "code",
   "execution_count": 25,
   "id": "2683405d",
   "metadata": {
    "scrolled": true
   },
   "outputs": [],
   "source": [
    "dataset_test = pd.read_csv('Google_Stock_Price_Test.csv')\n",
    "real_stock_price = dataset_test.iloc[:, 1:2].values"
   ]
  },
  {
   "cell_type": "markdown",
   "id": "6a26e9ba",
   "metadata": {},
   "source": [
    "## Getting the Stock Price Predictions on Test Data"
   ]
  },
  {
   "cell_type": "code",
   "execution_count": 26,
   "id": "38592d94",
   "metadata": {},
   "outputs": [],
   "source": [
    "dataset_total = pd.concat((dataset_train['Open'], dataset_test['Open']), axis = 0)\n",
    "inputs = dataset_total[len(dataset_total) - len(dataset_test) - 60:].values"
   ]
  },
  {
   "cell_type": "code",
   "execution_count": 27,
   "id": "2c6afdc2",
   "metadata": {},
   "outputs": [],
   "source": [
    "inputs = inputs.reshape(-1,1)\n",
    "inputs = sc.transform(inputs)"
   ]
  },
  {
   "cell_type": "code",
   "execution_count": 28,
   "id": "4cfb0e1f",
   "metadata": {},
   "outputs": [],
   "source": [
    "X_test = []"
   ]
  },
  {
   "cell_type": "code",
   "execution_count": 29,
   "id": "f7718879",
   "metadata": {},
   "outputs": [],
   "source": [
    "for i in range(60, 80):\n",
    "    X_test.append(inputs[i-60:i, 0])"
   ]
  },
  {
   "cell_type": "code",
   "execution_count": 30,
   "id": "9c42c4b3",
   "metadata": {},
   "outputs": [],
   "source": [
    "X_test = np.array(X_test)\n",
    "X_test = np.reshape(X_test, (X_test.shape[0], X_test.shape[1], 1))"
   ]
  },
  {
   "cell_type": "code",
   "execution_count": 31,
   "id": "6eb162bc",
   "metadata": {},
   "outputs": [],
   "source": [
    "predicted_stock_price = regressor.predict(X_test)\n",
    "predicted_stock_price = sc.inverse_transform(predicted_stock_price)"
   ]
  },
  {
   "cell_type": "markdown",
   "id": "591989d0",
   "metadata": {},
   "source": [
    "## Plotting the Predictions and Real Data"
   ]
  },
  {
   "cell_type": "code",
   "execution_count": 34,
   "id": "f62e8654",
   "metadata": {},
   "outputs": [
    {
     "data": {
      "image/png": "[encoded data removed]",
      "text/plain": [
       "<Figure size 432x288 with 1 Axes>"
      ]
     },
     "metadata": {
      "needs_background": "light"
     },
     "output_type": "display_data"
    }
   ],
   "source": [
    "plt.plot(real_stock_price, color = 'red', label = 'Real Google Stock Price')\n",
    "plt.plot(predicted_stock_price, color = 'blue', label = 'Predicted Google Stock Price')\n",
    "plt.title('Google Stock Price Prediction')\n",
    "plt.xlabel('Time')\n",
    "plt.ylabel('Google Stock Price')\n",
    "plt.legend()\n",
    "plt.show()"
   ]
  }
 ],
 "metadata": {
  "kernelspec": {
   "display_name": "Python 3 (ipykernel)",
   "language": "python",
   "name": "python3"
  },
  "language_info": {
   "codemirror_mode": {
    "name": "ipython",
    "version": 3
   },
   "file_extension": ".py",
   "mimetype": "text/x-python",
   "name": "python",
   "nbconvert_exporter": "python",
   "pygments_lexer": "ipython3",
   "version": "3.8.10"
  }
 },
 "nbformat": 4,
 "nbformat_minor": 5
}
